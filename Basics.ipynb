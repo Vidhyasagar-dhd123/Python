{
 "cells": [
  {
   "cell_type": "code",
   "execution_count": 8,
   "id": "9888c28c",
   "metadata": {},
   "outputs": [],
   "source": [
    "from pygments import highlight\n",
    "from pygments.formatters import HtmlFormatter\n",
    "from pygments.lexers import Python3Lexer"
   ]
  },
  {
   "cell_type": "markdown",
   "id": "88d7e114",
   "metadata": {},
   "source": [
    "There are three types you can import modules"
   ]
  },
  {
   "cell_type": "markdown",
   "id": "946f486f",
   "metadata": {},
   "source": [
    "<link rel=\"stylesheet\" href=\"style.css\">\n",
    "<div class=\"highlight\"><pre><span></span><span class=\"sd\">&quot;&quot;&quot;Type 1&quot;&quot;&quot;</span>\n",
    "<span class=\"kn\">import</span><span class=\"w\"> </span><span class=\"nn\">math</span>\n",
    "<span class=\"sd\">&quot;&quot;&quot;Type 2&quot;&quot;&quot;</span>\n",
    "<span class=\"kn\">from</span><span class=\"w\"> </span><span class=\"nn\">pandas</span><span class=\"w\"> </span><span class=\"kn\">import</span> <span class=\"n\">DataFrame</span>\n",
    "<span class=\"sd\">&quot;&quot;&quot;&quot;Type 3&quot;&quot;&quot;</span>\n",
    "<span class=\"kn\">from</span><span class=\"w\"> </span><span class=\"nn\">pygments.formatters</span><span class=\"w\"> </span><span class=\"kn\">import</span> <span class=\"n\">HtmlFormatter</span>\n",
    "</pre></div>\n",
    "<p>It is not required to import modules/packages at the top. But conventionally you should put them there. Otherwise you can import them inside functions too.</p>\n",
    "<div class=\"highlight\"><pre><span></span><span class=\"k\">def</span><span class=\"w\"> </span><span class=\"nf\">squareroot</span><span class=\"p\">(</span><span class=\"n\">x</span><span class=\"p\">):</span>\n",
    "    <span class=\"kn\">import</span><span class=\"w\"> </span><span class=\"nn\">math</span>\n",
    "    <span class=\"k\">return</span> <span class=\"n\">math</span><span class=\"o\">.</span><span class=\"n\">sqrt</span><span class=\"p\">(</span><span class=\"n\">x</span><span class=\"p\">)</span>\n",
    "</pre></div>\n"
   ]
  },
  {
   "cell_type": "code",
   "execution_count": 10,
   "id": "b483c6e5",
   "metadata": {},
   "outputs": [
    {
     "name": "stdout",
     "output_type": "stream",
     "text": [
      "<div class=\"highlight\"><pre><span></span><span class=\"k\">def</span><span class=\"w\"> </span><span class=\"nf\">squareroot</span><span class=\"p\">(</span><span class=\"n\">x</span><span class=\"p\">):</span>\n",
      "    <span class=\"kn\">import</span><span class=\"w\"> </span><span class=\"nn\">math</span>\n",
      "    <span class=\"k\">return</span> <span class=\"n\">math</span><span class=\"o\">.</span><span class=\"n\">sqrt</span><span class=\"p\">(</span><span class=\"n\">x</span><span class=\"p\">)</span>\n",
      "</pre></div>\n",
      "\n"
     ]
    }
   ],
   "source": [
    "def getFileStyle(address):\n",
    "    code = \"\"\n",
    "    with open(address,\"r\") as css_file:\n",
    "        code = css_file.read()\n",
    "    htmlcode = highlight(code,Python3Lexer(),HtmlFormatter())\n",
    "    print(htmlcode)\n",
    "\n",
    "getFileStyle(\"moduleImports.py\")"
   ]
  }
 ],
 "metadata": {
  "kernelspec": {
   "display_name": "py_env",
   "language": "python",
   "name": "python3"
  },
  "language_info": {
   "codemirror_mode": {
    "name": "ipython",
    "version": 3
   },
   "file_extension": ".py",
   "mimetype": "text/x-python",
   "name": "python",
   "nbconvert_exporter": "python",
   "pygments_lexer": "ipython3",
   "version": "3.12.0"
  }
 },
 "nbformat": 4,
 "nbformat_minor": 5
}
